{
 "cells": [
  {
   "cell_type": "markdown",
   "id": "5657ff64",
   "metadata": {},
   "source": [
    "# Lab 10\n",
    "> Implement K-Medoids Algorithm"
   ]
  },
  {
   "cell_type": "code",
   "execution_count": 2,
   "id": "6d5fd69a",
   "metadata": {},
   "outputs": [],
   "source": [
    "# pip install scikit-learn-extra"
   ]
  },
  {
   "cell_type": "code",
   "execution_count": 1,
   "id": "707dd2b4",
   "metadata": {},
   "outputs": [],
   "source": [
    "import matplotlib.pyplot as plt\n",
    "import pandas as pd\n",
    "import numpy as np\n",
    "from sklearn_extra.cluster import KMedoids\n",
    "from sklearn.datasets import make_blobs\n",
    "from IPython.display import display_html"
   ]
  },
  {
   "cell_type": "code",
   "execution_count": 4,
   "id": "42d5fea4",
   "metadata": {},
   "outputs": [],
   "source": [
    "def toy_dataset():\n",
    "    centers = [[1,1], [-1,-1], [1,-1]]\n",
    "    n_clusters = len(centers)\n",
    "    X, labels_true = make_blobs(n_samples=70, centers = centers, cluster_std=0.4, random_state=0)\n",
    "    titles = ['x1', 'x2']\n",
    "    data = pd.DataFrame(X, columns=titles)\n",
    "    print(\"Do you want to view first 10 data elemenst?\")\n",
    "    choice = input()\n",
    "    if choice=='yes':\n",
    "        display_html(data)\n",
    "    return data, X"
   ]
  },
  {
   "cell_type": "code",
   "execution_count": 5,
   "id": "c2017bb0",
   "metadata": {},
   "outputs": [],
   "source": [
    "def K_medoids(data):\n",
    "    k_medoids = KMedoids(n_clusters=3, max_iter=50).fit(data)\n",
    "    labels = k_medoids.labels_\n",
    "    print(\"Learned cluster centroids for three clusters\")\n",
    "    centroids = k_medoids.cluster_centers_\n",
    "    display_html(pd.DataFrame(centroids, columns=data.columns))\n",
    "    return k_medoids, labels"
   ]
  },
  {
   "cell_type": "code",
   "execution_count": 6,
   "id": "b26f56d9",
   "metadata": {},
   "outputs": [],
   "source": [
    "def cluster_new_data(k_medoids):\n",
    "    testData = np.array(\n",
    "        [\n",
    "            [0.81, 1.12],\n",
    "            [-1.145, -1.194],\n",
    "            [0.676, 0.7133],\n",
    "            [0.442, -1.3245],\n",
    "            [1.23623, 1.34634],\n",
    "            [-0.93423, -0.0332],\n",
    "            [-1.00234, -1.546],\n",
    "            [1.534, 0.4789],\n",
    "            [1.23523, 1.0547]\n",
    "        ]\n",
    "    )\n",
    "    labels = KMedoids.predict(k_medoids, testData)\n",
    "    labels = labels.reshape(-1,1)\n",
    "    cols = ['x1','x2']\n",
    "    cols.append('Assigned Cluster')\n",
    "    newdata_cluster = pd.DataFrame(np.concatenate((testData, labels), axis=1), columns=cols)\n",
    "    display_html(newdata_cluster)"
   ]
  },
  {
   "cell_type": "code",
   "execution_count": 10,
   "id": "1b3e62ba",
   "metadata": {},
   "outputs": [],
   "source": [
    "def view_cluster(labels, X, k_medoids):\n",
    "    unique_labels = set(labels)\n",
    "    colors = [plt.cm.Spectral(each) for each in np.linspace(0,1,len(unique_labels))]\n",
    "    for k, col in zip(unique_labels, colors):\n",
    "        class_member_mask = labels == k\n",
    "        xy = X[class_member_mask]\n",
    "        plt.plot(xy[:,0], xy[:,1], \"o\", markerfacecolor=tuple(col), markeredgecolor=\"k\", markersize=6,)\n",
    "    plt.plot(k_medoids.cluster_centers_[:,0], k_medoids.cluster_centers_[:,1], \"o\", markerfacecolor=\"cyan\",\n",
    "             markeredgecolor=\"k\", markersize=6,)\n",
    "    plt.title(\"KMedoids clustering. Medoids are represented in cyan.\")"
   ]
  },
  {
   "cell_type": "code",
   "execution_count": 11,
   "id": "984c8bb8",
   "metadata": {},
   "outputs": [],
   "source": [
    "def main():\n",
    "    data, X = toy_dataset()\n",
    "    k_medoids, labels = K_medoids(data)\n",
    "    print(\"Scatter plot of learned clusters:\")\n",
    "    view_cluster(labels, X, k_medoids)\n",
    "    print(\"Do you want clustering for new data based on learned clusters?\")\n",
    "    choice = input()\n",
    "    if choice == 'yes':\n",
    "        cluster_new_data(k_medoids)\n",
    "    else:\n",
    "        quit()"
   ]
  },
  {
   "cell_type": "code",
   "execution_count": 12,
   "id": "0382a260",
   "metadata": {},
   "outputs": [
    {
     "name": "stdout",
     "output_type": "stream",
     "text": [
      "Do you want to view first 10 data elemenst?\n",
      "yes\n"
     ]
    },
    {
     "data": {
      "text/html": [
       "<div>\n",
       "<style scoped>\n",
       "    .dataframe tbody tr th:only-of-type {\n",
       "        vertical-align: middle;\n",
       "    }\n",
       "\n",
       "    .dataframe tbody tr th {\n",
       "        vertical-align: top;\n",
       "    }\n",
       "\n",
       "    .dataframe thead th {\n",
       "        text-align: right;\n",
       "    }\n",
       "</style>\n",
       "<table border=\"1\" class=\"dataframe\">\n",
       "  <thead>\n",
       "    <tr style=\"text-align: right;\">\n",
       "      <th></th>\n",
       "      <th>x1</th>\n",
       "      <th>x2</th>\n",
       "    </tr>\n",
       "  </thead>\n",
       "  <tbody>\n",
       "    <tr>\n",
       "      <th>0</th>\n",
       "      <td>0.491806</td>\n",
       "      <td>-0.612241</td>\n",
       "    </tr>\n",
       "    <tr>\n",
       "      <th>1</th>\n",
       "      <td>1.747024</td>\n",
       "      <td>-0.637582</td>\n",
       "    </tr>\n",
       "    <tr>\n",
       "      <th>2</th>\n",
       "      <td>1.230636</td>\n",
       "      <td>-1.083320</td>\n",
       "    </tr>\n",
       "    <tr>\n",
       "      <th>3</th>\n",
       "      <td>-0.813735</td>\n",
       "      <td>-1.614497</td>\n",
       "    </tr>\n",
       "    <tr>\n",
       "      <th>4</th>\n",
       "      <td>-1.204322</td>\n",
       "      <td>-1.472253</td>\n",
       "    </tr>\n",
       "    <tr>\n",
       "      <th>...</th>\n",
       "      <td>...</td>\n",
       "      <td>...</td>\n",
       "    </tr>\n",
       "    <tr>\n",
       "      <th>65</th>\n",
       "      <td>-0.708364</td>\n",
       "      <td>-0.948407</td>\n",
       "    </tr>\n",
       "    <tr>\n",
       "      <th>66</th>\n",
       "      <td>-1.358187</td>\n",
       "      <td>-0.845239</td>\n",
       "    </tr>\n",
       "    <tr>\n",
       "      <th>67</th>\n",
       "      <td>1.004200</td>\n",
       "      <td>-0.285652</td>\n",
       "    </tr>\n",
       "    <tr>\n",
       "      <th>68</th>\n",
       "      <td>-0.544240</td>\n",
       "      <td>-1.493930</td>\n",
       "    </tr>\n",
       "    <tr>\n",
       "      <th>69</th>\n",
       "      <td>-1.466060</td>\n",
       "      <td>-0.639669</td>\n",
       "    </tr>\n",
       "  </tbody>\n",
       "</table>\n",
       "<p>70 rows × 2 columns</p>\n",
       "</div>"
      ]
     },
     "metadata": {},
     "output_type": "display_data"
    },
    {
     "name": "stdout",
     "output_type": "stream",
     "text": [
      "Learned cluster centroids for three clusters\n"
     ]
    },
    {
     "data": {
      "text/html": [
       "<div>\n",
       "<style scoped>\n",
       "    .dataframe tbody tr th:only-of-type {\n",
       "        vertical-align: middle;\n",
       "    }\n",
       "\n",
       "    .dataframe tbody tr th {\n",
       "        vertical-align: top;\n",
       "    }\n",
       "\n",
       "    .dataframe thead th {\n",
       "        text-align: right;\n",
       "    }\n",
       "</style>\n",
       "<table border=\"1\" class=\"dataframe\">\n",
       "  <thead>\n",
       "    <tr style=\"text-align: right;\">\n",
       "      <th></th>\n",
       "      <th>x1</th>\n",
       "      <th>x2</th>\n",
       "    </tr>\n",
       "  </thead>\n",
       "  <tbody>\n",
       "    <tr>\n",
       "      <th>0</th>\n",
       "      <td>-1.124621</td>\n",
       "      <td>-0.977534</td>\n",
       "    </tr>\n",
       "    <tr>\n",
       "      <th>1</th>\n",
       "      <td>1.177545</td>\n",
       "      <td>1.133470</td>\n",
       "    </tr>\n",
       "    <tr>\n",
       "      <th>2</th>\n",
       "      <td>1.050765</td>\n",
       "      <td>-0.839204</td>\n",
       "    </tr>\n",
       "  </tbody>\n",
       "</table>\n",
       "</div>"
      ]
     },
     "metadata": {},
     "output_type": "display_data"
    },
    {
     "name": "stdout",
     "output_type": "stream",
     "text": [
      "Scatter plot of learned clusters:\n",
      "Do you want clustering for new data based on learned clusters?\n",
      "yes\n"
     ]
    },
    {
     "data": {
      "text/html": [
       "<div>\n",
       "<style scoped>\n",
       "    .dataframe tbody tr th:only-of-type {\n",
       "        vertical-align: middle;\n",
       "    }\n",
       "\n",
       "    .dataframe tbody tr th {\n",
       "        vertical-align: top;\n",
       "    }\n",
       "\n",
       "    .dataframe thead th {\n",
       "        text-align: right;\n",
       "    }\n",
       "</style>\n",
       "<table border=\"1\" class=\"dataframe\">\n",
       "  <thead>\n",
       "    <tr style=\"text-align: right;\">\n",
       "      <th></th>\n",
       "      <th>x1</th>\n",
       "      <th>x2</th>\n",
       "      <th>Assigned Cluster</th>\n",
       "    </tr>\n",
       "  </thead>\n",
       "  <tbody>\n",
       "    <tr>\n",
       "      <th>0</th>\n",
       "      <td>0.81000</td>\n",
       "      <td>1.12000</td>\n",
       "      <td>1.0</td>\n",
       "    </tr>\n",
       "    <tr>\n",
       "      <th>1</th>\n",
       "      <td>-1.14500</td>\n",
       "      <td>-1.19400</td>\n",
       "      <td>0.0</td>\n",
       "    </tr>\n",
       "    <tr>\n",
       "      <th>2</th>\n",
       "      <td>0.67600</td>\n",
       "      <td>0.71330</td>\n",
       "      <td>1.0</td>\n",
       "    </tr>\n",
       "    <tr>\n",
       "      <th>3</th>\n",
       "      <td>0.44200</td>\n",
       "      <td>-1.32450</td>\n",
       "      <td>2.0</td>\n",
       "    </tr>\n",
       "    <tr>\n",
       "      <th>4</th>\n",
       "      <td>1.23623</td>\n",
       "      <td>1.34634</td>\n",
       "      <td>1.0</td>\n",
       "    </tr>\n",
       "    <tr>\n",
       "      <th>5</th>\n",
       "      <td>-0.93423</td>\n",
       "      <td>-0.03320</td>\n",
       "      <td>0.0</td>\n",
       "    </tr>\n",
       "    <tr>\n",
       "      <th>6</th>\n",
       "      <td>-1.00234</td>\n",
       "      <td>-1.54600</td>\n",
       "      <td>0.0</td>\n",
       "    </tr>\n",
       "    <tr>\n",
       "      <th>7</th>\n",
       "      <td>1.53400</td>\n",
       "      <td>0.47890</td>\n",
       "      <td>1.0</td>\n",
       "    </tr>\n",
       "    <tr>\n",
       "      <th>8</th>\n",
       "      <td>1.23523</td>\n",
       "      <td>1.05470</td>\n",
       "      <td>1.0</td>\n",
       "    </tr>\n",
       "  </tbody>\n",
       "</table>\n",
       "</div>"
      ]
     },
     "metadata": {},
     "output_type": "display_data"
    },
    {
     "data": {
      "image/png": "[encoded data removed]",
      "text/plain": [
       "<Figure size 640x480 with 1 Axes>"
      ]
     },
     "metadata": {},
     "output_type": "display_data"
    }
   ],
   "source": [
    "main()"
   ]
  },
  {
   "cell_type": "code",
   "execution_count": null,
   "id": "c2165231",
   "metadata": {},
   "outputs": [],
   "source": []
  }
 ],
 "metadata": {
  "kernelspec": {
   "display_name": "Python 3 (ipykernel)",
   "language": "python",
   "name": "python3"
  },
  "language_info": {
   "codemirror_mode": {
    "name": "ipython",
    "version": 3
   },
   "file_extension": ".py",
   "mimetype": "text/x-python",
   "name": "python",
   "nbconvert_exporter": "python",
   "pygments_lexer": "ipython3",
   "version": "3.10.9"
  }
 },
 "nbformat": 4,
 "nbformat_minor": 5
}
