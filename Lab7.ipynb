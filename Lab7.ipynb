{
 "cells": [
  {
   "cell_type": "markdown",
   "id": "88e8eb95",
   "metadata": {},
   "source": [
    "# Lab 7:\n",
    "> Implement K-Means Algorithm"
   ]
  },
  {
   "cell_type": "code",
   "execution_count": 1,
   "id": "9e82834d",
   "metadata": {},
   "outputs": [],
   "source": [
    "import pandas as pd\n",
    "import numpy as np\n",
    "from IPython.display import display_html\n",
    "from sklearn import cluster"
   ]
  },
  {
   "cell_type": "code",
   "execution_count": 8,
   "id": "66f1ff92",
   "metadata": {},
   "outputs": [],
   "source": [
    "def toy_dataset():\n",
    "    ratings = [\n",
    "        ['Lokesh', 5, 5, 2, 1],\n",
    "        ['Jyoti', 4, 5, 3, 2],\n",
    "        ['Bijay', 4, 4, 4, 3],\n",
    "        ['Sita', 2, 2, 4, 5],\n",
    "        ['Manish', 1, 2, 3, 4],\n",
    "        ['Ram', 2, 1, 5, 5]\n",
    "    ]\n",
    "    titles = ['user', 'Loot', 'Chino', 'Ghar', 'Aatma']\n",
    "    movies = pd.DataFrame(ratings, columns=titles)\n",
    "    display_html(movies)\n",
    "    return movies"
   ]
  },
  {
   "cell_type": "code",
   "execution_count": 13,
   "id": "17307c74",
   "metadata": {},
   "outputs": [],
   "source": [
    "def k_means_learn(k,movies):\n",
    "    data = movies.drop('user', axis=1)\n",
    "    k_means = cluster.KMeans(n_clusters=2, max_iter=50, random_state=1)\n",
    "    k_means.fit(data)\n",
    "    labels = k_means.labels\n",
    "    pd.DataFrame(labels, index=movies.user, columns=['Cluster ID'])\n",
    "    print(\"Learned cluster centroids for two clusters 0 and 1:\")\n",
    "    centroids = k_means.cluster_centers_\n",
    "    display_html(pd.DataFrame(centroids, columns=data.columns))\n",
    "    print(\"Now we can use cluster centroids to other users to determine their cluster assignments.\")\n",
    "    return (k_means)"
   ]
  },
  {
   "cell_type": "code",
   "execution_count": 5,
   "id": "b284bf11",
   "metadata": {},
   "outputs": [],
   "source": [
    "def cluster_new_data(k_means, movies):\n",
    "    testData = np.array([\n",
    "        [4,5,1,2],\n",
    "        [3,2,4,4],\n",
    "        [2,3,4,1],\n",
    "        [3,2,3,3],\n",
    "        [5,4,1,4]\n",
    "    ])\n",
    "    labels = k_means.predict(testData)\n",
    "    labels = labels.reshape(-1,1)\n",
    "    usernames = np.array([\n",
    "        'Radhe', 'Riya', 'Pratik', 'Prativa', 'Shyam'\n",
    "    ]).reshape(-1,1)\n",
    "    cols = movies.columns.tolist()\n",
    "    newusers = pd.DataFrame(np.concatenate((usernames, testData), axis=1), columns=cols)\n",
    "    cols.append('Assigned Cluster')\n",
    "    newusers_cluster = pd.DataFrame(np.concatenate((usernames, testData, labels), axis=1), columns=cols)\n",
    "    print(\"New Users (test data) are:\")\n",
    "    display_html(newusers)\n",
    "    print(\"New Users with their assigned cluster:\")\n",
    "    display_html(newusers_cluster)"
   ]
  },
  {
   "cell_type": "code",
   "execution_count": 11,
   "id": "9b5e65c3",
   "metadata": {},
   "outputs": [],
   "source": [
    "def main():\n",
    "    k=2\n",
    "    movies = toy_dataset()\n",
    "    k_means = k_means_learn(k, movies)\n",
    "    cluster_new_data(k_means, movies)"
   ]
  },
  {
   "cell_type": "code",
   "execution_count": 14,
   "id": "93ec1cff",
   "metadata": {},
   "outputs": [
    {
     "data": {
      "text/html": [
       "<div>\n",
       "<style scoped>\n",
       "    .dataframe tbody tr th:only-of-type {\n",
       "        vertical-align: middle;\n",
       "    }\n",
       "\n",
       "    .dataframe tbody tr th {\n",
       "        vertical-align: top;\n",
       "    }\n",
       "\n",
       "    .dataframe thead th {\n",
       "        text-align: right;\n",
       "    }\n",
       "</style>\n",
       "<table border=\"1\" class=\"dataframe\">\n",
       "  <thead>\n",
       "    <tr style=\"text-align: right;\">\n",
       "      <th></th>\n",
       "      <th>user</th>\n",
       "      <th>Loot</th>\n",
       "      <th>Chino</th>\n",
       "      <th>Ghar</th>\n",
       "      <th>Aatma</th>\n",
       "    </tr>\n",
       "  </thead>\n",
       "  <tbody>\n",
       "    <tr>\n",
       "      <th>0</th>\n",
       "      <td>Lokesh</td>\n",
       "      <td>5</td>\n",
       "      <td>5</td>\n",
       "      <td>2</td>\n",
       "      <td>1</td>\n",
       "    </tr>\n",
       "    <tr>\n",
       "      <th>1</th>\n",
       "      <td>Jyoti</td>\n",
       "      <td>4</td>\n",
       "      <td>5</td>\n",
       "      <td>3</td>\n",
       "      <td>2</td>\n",
       "    </tr>\n",
       "    <tr>\n",
       "      <th>2</th>\n",
       "      <td>Bijay</td>\n",
       "      <td>4</td>\n",
       "      <td>4</td>\n",
       "      <td>4</td>\n",
       "      <td>3</td>\n",
       "    </tr>\n",
       "    <tr>\n",
       "      <th>3</th>\n",
       "      <td>Sita</td>\n",
       "      <td>2</td>\n",
       "      <td>2</td>\n",
       "      <td>4</td>\n",
       "      <td>5</td>\n",
       "    </tr>\n",
       "    <tr>\n",
       "      <th>4</th>\n",
       "      <td>Manish</td>\n",
       "      <td>1</td>\n",
       "      <td>2</td>\n",
       "      <td>3</td>\n",
       "      <td>4</td>\n",
       "    </tr>\n",
       "    <tr>\n",
       "      <th>5</th>\n",
       "      <td>Ram</td>\n",
       "      <td>2</td>\n",
       "      <td>1</td>\n",
       "      <td>5</td>\n",
       "      <td>5</td>\n",
       "    </tr>\n",
       "  </tbody>\n",
       "</table>\n",
       "</div>"
      ]
     },
     "metadata": {},
     "output_type": "display_data"
    },
    {
     "name": "stderr",
     "output_type": "stream",
     "text": [
      "F:\\7thSemLab\\DWDM\\env\\lib\\site-packages\\sklearn\\cluster\\_kmeans.py:870: FutureWarning: The default value of `n_init` will change from 10 to 'auto' in 1.4. Set the value of `n_init` explicitly to suppress the warning\n",
      "  warnings.warn(\n",
      "F:\\7thSemLab\\DWDM\\env\\lib\\site-packages\\sklearn\\cluster\\_kmeans.py:1382: UserWarning: KMeans is known to have a memory leak on Windows with MKL, when there are less chunks than available threads. You can avoid it by setting the environment variable OMP_NUM_THREADS=1.\n",
      "  warnings.warn(\n"
     ]
    },
    {
     "ename": "NameError",
     "evalue": "name 'labels' is not defined",
     "output_type": "error",
     "traceback": [
      "\u001b[1;31m---------------------------------------------------------------------------\u001b[0m",
      "\u001b[1;31mNameError\u001b[0m                                 Traceback (most recent call last)",
      "Cell \u001b[1;32mIn[14], line 1\u001b[0m\n\u001b[1;32m----> 1\u001b[0m \u001b[43mmain\u001b[49m\u001b[43m(\u001b[49m\u001b[43m)\u001b[49m\n",
      "Cell \u001b[1;32mIn[11], line 4\u001b[0m, in \u001b[0;36mmain\u001b[1;34m()\u001b[0m\n\u001b[0;32m      2\u001b[0m k\u001b[38;5;241m=\u001b[39m\u001b[38;5;241m2\u001b[39m\n\u001b[0;32m      3\u001b[0m movies \u001b[38;5;241m=\u001b[39m toy_dataset()\n\u001b[1;32m----> 4\u001b[0m k_means \u001b[38;5;241m=\u001b[39m \u001b[43mk_means_learn\u001b[49m\u001b[43m(\u001b[49m\u001b[43mk\u001b[49m\u001b[43m,\u001b[49m\u001b[43m \u001b[49m\u001b[43mmovies\u001b[49m\u001b[43m)\u001b[49m\n\u001b[0;32m      5\u001b[0m cluster_new_data(k_means, movies)\n",
      "Cell \u001b[1;32mIn[13], line 5\u001b[0m, in \u001b[0;36mk_means_learn\u001b[1;34m(k, movies)\u001b[0m\n\u001b[0;32m      3\u001b[0m k_means \u001b[38;5;241m=\u001b[39m cluster\u001b[38;5;241m.\u001b[39mKMeans(n_clusters\u001b[38;5;241m=\u001b[39m\u001b[38;5;241m2\u001b[39m, max_iter\u001b[38;5;241m=\u001b[39m\u001b[38;5;241m50\u001b[39m, random_state\u001b[38;5;241m=\u001b[39m\u001b[38;5;241m1\u001b[39m)\n\u001b[0;32m      4\u001b[0m k_means\u001b[38;5;241m.\u001b[39mfit(data)\n\u001b[1;32m----> 5\u001b[0m pd\u001b[38;5;241m.\u001b[39mDataFrame(\u001b[43mlabels\u001b[49m, index\u001b[38;5;241m=\u001b[39mmovies\u001b[38;5;241m.\u001b[39muser, columns\u001b[38;5;241m=\u001b[39m[\u001b[38;5;124m'\u001b[39m\u001b[38;5;124mCluster ID\u001b[39m\u001b[38;5;124m'\u001b[39m])\n\u001b[0;32m      6\u001b[0m \u001b[38;5;28mprint\u001b[39m(\u001b[38;5;124m\"\u001b[39m\u001b[38;5;124mLearned cluster centroids for two clusters 0 and 1:\u001b[39m\u001b[38;5;124m\"\u001b[39m)\n\u001b[0;32m      7\u001b[0m centroids \u001b[38;5;241m=\u001b[39m k_means\u001b[38;5;241m.\u001b[39mcluster_centers_\n",
      "\u001b[1;31mNameError\u001b[0m: name 'labels' is not defined"
     ]
    }
   ],
   "source": [
    "main()"
   ]
  },
  {
   "cell_type": "code",
   "execution_count": null,
   "id": "ac55aa6e",
   "metadata": {},
   "outputs": [],
   "source": []
  }
 ],
 "metadata": {
  "kernelspec": {
   "display_name": "Python 3 (ipykernel)",
   "language": "python",
   "name": "python3"
  },
  "language_info": {
   "codemirror_mode": {
    "name": "ipython",
    "version": 3
   },
   "file_extension": ".py",
   "mimetype": "text/x-python",
   "name": "python",
   "nbconvert_exporter": "python",
   "pygments_lexer": "ipython3",
   "version": "3.10.9"
  }
 },
 "nbformat": 4,
 "nbformat_minor": 5
}
